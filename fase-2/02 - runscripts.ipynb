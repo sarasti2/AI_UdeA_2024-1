{
  "nbformat": 4,
  "nbformat_minor": 0,
  "metadata": {
    "colab": {
      "provenance": [],
      "authorship_tag": "ABX9TyOg2Ap0aO+s3+71rNABgpAo",
      "include_colab_link": true
    },
    "kernelspec": {
      "name": "python3",
      "display_name": "Python 3"
    },
    "language_info": {
      "name": "python"
    }
  },
  "cells": [
    {
      "cell_type": "markdown",
      "metadata": {
        "id": "view-in-github",
        "colab_type": "text"
      },
      "source": [
        "<a href=\"https://colab.research.google.com/github/sarasti2/AI_UdeA_2024-1/blob/main/fase-2/02%20-%20runscripts.ipynb\" target=\"_parent\"><img src=\"https://colab.research.google.com/assets/colab-badge.svg\" alt=\"Open In Colab\"/></a>"
      ]
    },
    {
      "cell_type": "markdown",
      "source": [
        "# 0. Configuración inicial\n",
        "\n",
        "Recordemos que en el script [generate-data-and-model.ipynb](https://github.com/sarasti2/AI_UdeA_2024-1/blob/6049b128f3c7d378973fa23b9146d0a20374a283/fase-2/01%20-%20generate-data-and-model.ipynb) se crearon dos .csv (train and test), y el modelo (model.pkl), que se cargaran en este cuaderno directamente desde el github del proyecto, se encuentran alojados en [modelo](https://github.com/sarasti2/AI_UdeA_2024-1/tree/main/fase-2/modelo).\n",
        "\n",
        "Tambien debemos llamar a los dos scripts, train and predict que se encuentran alojados en [scripts](https://github.com/sarasti2/AI_UdeA_2024-1/tree/main/fase-2/scripts).\n",
        "\n",
        "\n",
        "\n",
        "\n"
      ],
      "metadata": {
        "id": "H7EdSqiToy63"
      }
    },
    {
      "cell_type": "code",
      "source": [
        "!pip install loguru"
      ],
      "metadata": {
        "colab": {
          "base_uri": "https://localhost:8080/"
        },
        "id": "iVeariAdsvcA",
        "outputId": "e78f59a8-1fbf-4b8f-c6a5-beb5777f164b"
      },
      "execution_count": 13,
      "outputs": [
        {
          "output_type": "stream",
          "name": "stdout",
          "text": [
            "Requirement already satisfied: loguru in /usr/local/lib/python3.10/dist-packages (0.7.2)\n"
          ]
        }
      ]
    },
    {
      "cell_type": "code",
      "execution_count": 19,
      "metadata": {
        "colab": {
          "base_uri": "https://localhost:8080/"
        },
        "id": "kD9p-909ompG",
        "outputId": "c4cbfd8e-cfd2-4aff-eee7-47881ff488fb"
      },
      "outputs": [
        {
          "output_type": "stream",
          "name": "stdout",
          "text": [
            "--2024-04-29 03:20:00--  https://raw.githubusercontent.com/sarasti2/AI_UdeA_2024-1/main/fase-2/modelo/model.pkl\n",
            "Resolving raw.githubusercontent.com (raw.githubusercontent.com)... 185.199.108.133, 185.199.109.133, 185.199.110.133, ...\n",
            "Connecting to raw.githubusercontent.com (raw.githubusercontent.com)|185.199.108.133|:443... connected.\n",
            "HTTP request sent, awaiting response... 200 OK\n",
            "Length: 17069 (17K) [application/octet-stream]\n",
            "Saving to: ‘model.pkl’\n",
            "\n",
            "\rmodel.pkl             0%[                    ]       0  --.-KB/s               \rmodel.pkl           100%[===================>]  16.67K  --.-KB/s    in 0.005s  \n",
            "\n",
            "2024-04-29 03:20:01 (3.36 MB/s) - ‘model.pkl’ saved [17069/17069]\n",
            "\n",
            "--2024-04-29 03:20:01--  https://raw.githubusercontent.com/sarasti2/AI_UdeA_2024-1/main/fase-2/modelo/train.csv\n",
            "Resolving raw.githubusercontent.com (raw.githubusercontent.com)... 185.199.110.133, 185.199.108.133, 185.199.109.133, ...\n",
            "Connecting to raw.githubusercontent.com (raw.githubusercontent.com)|185.199.110.133|:443... connected.\n",
            "HTTP request sent, awaiting response... 200 OK\n",
            "Length: 23656815 (23M) [text/plain]\n",
            "Saving to: ‘train.csv’\n",
            "\n",
            "train.csv           100%[===================>]  22.56M  47.5MB/s    in 0.5s    \n",
            "\n",
            "2024-04-29 03:20:01 (47.5 MB/s) - ‘train.csv’ saved [23656815/23656815]\n",
            "\n",
            "--2024-04-29 03:20:01--  https://raw.githubusercontent.com/sarasti2/AI_UdeA_2024-1/main/fase-2/modelo/test.csv\n",
            "Resolving raw.githubusercontent.com (raw.githubusercontent.com)... 185.199.108.133, 185.199.109.133, 185.199.111.133, ...\n",
            "Connecting to raw.githubusercontent.com (raw.githubusercontent.com)|185.199.108.133|:443... connected.\n",
            "HTTP request sent, awaiting response... 200 OK\n",
            "Length: 5861289 (5.6M) [text/plain]\n",
            "Saving to: ‘test.csv’\n",
            "\n",
            "test.csv            100%[===================>]   5.59M  20.1MB/s    in 0.3s    \n",
            "\n",
            "2024-04-29 03:20:02 (20.1 MB/s) - ‘test.csv’ saved [5861289/5861289]\n",
            "\n",
            "--2024-04-29 03:20:02--  https://raw.githubusercontent.com/sarasti2/AI_UdeA_2024-1/main/fase-2/modelo/predicciones.csv\n",
            "Resolving raw.githubusercontent.com (raw.githubusercontent.com)... 185.199.108.133, 185.199.109.133, 185.199.110.133, ...\n",
            "Connecting to raw.githubusercontent.com (raw.githubusercontent.com)|185.199.108.133|:443... connected.\n",
            "HTTP request sent, awaiting response... 200 OK\n",
            "Length: 1 [text/plain]\n",
            "Saving to: ‘predicciones.csv’\n",
            "\n",
            "predicciones.csv    100%[===================>]       1  --.-KB/s    in 0s      \n",
            "\n",
            "2024-04-29 03:20:02 (65.4 KB/s) - ‘predicciones.csv’ saved [1/1]\n",
            "\n",
            "--2024-04-29 03:20:02--  https://raw.githubusercontent.com/sarasti2/AI_UdeA_2024-1/main/fase-2/scripts/train.py\n",
            "Resolving raw.githubusercontent.com (raw.githubusercontent.com)... 185.199.111.133, 185.199.110.133, 185.199.108.133, ...\n",
            "Connecting to raw.githubusercontent.com (raw.githubusercontent.com)|185.199.111.133|:443... connected.\n",
            "HTTP request sent, awaiting response... 200 OK\n",
            "Length: 1213 (1.2K) [text/plain]\n",
            "Saving to: ‘train.py’\n",
            "\n",
            "train.py            100%[===================>]   1.18K  --.-KB/s    in 0s      \n",
            "\n",
            "2024-04-29 03:20:02 (47.5 MB/s) - ‘train.py’ saved [1213/1213]\n",
            "\n",
            "--2024-04-29 03:20:02--  https://raw.githubusercontent.com/sarasti2/AI_UdeA_2024-1/main/fase-2/scripts/predict.py\n",
            "Resolving raw.githubusercontent.com (raw.githubusercontent.com)... 185.199.110.133, 185.199.108.133, 185.199.109.133, ...\n",
            "Connecting to raw.githubusercontent.com (raw.githubusercontent.com)|185.199.110.133|:443... connected.\n",
            "HTTP request sent, awaiting response... 200 OK\n",
            "Length: 1267 (1.2K) [text/plain]\n",
            "Saving to: ‘predict.py’\n",
            "\n",
            "predict.py          100%[===================>]   1.24K  --.-KB/s    in 0s      \n",
            "\n",
            "2024-04-29 03:20:02 (74.3 MB/s) - ‘predict.py’ saved [1267/1267]\n",
            "\n"
          ]
        }
      ],
      "source": [
        "!wget -O model.pkl https://raw.githubusercontent.com/sarasti2/AI_UdeA_2024-1/main/fase-2/modelo/model.pkl\n",
        "!wget -O train.csv https://raw.githubusercontent.com/sarasti2/AI_UdeA_2024-1/main/fase-2/modelo/train.csv\n",
        "!wget -O test.csv https://raw.githubusercontent.com/sarasti2/AI_UdeA_2024-1/main/fase-2/modelo/test.csv\n",
        "!wget -O predicciones.csv https://raw.githubusercontent.com/sarasti2/AI_UdeA_2024-1/main/fase-2/modelo/predicciones.csv\n",
        "!wget -O train.py https://raw.githubusercontent.com/sarasti2/AI_UdeA_2024-1/main/fase-2/scripts/train.py\n",
        "!wget -O predict.py https://raw.githubusercontent.com/sarasti2/AI_UdeA_2024-1/main/fase-2/scripts/predict.py\n"
      ]
    },
    {
      "cell_type": "code",
      "source": [
        "train_data_file  = 'train.csv'\n",
        "test_input_file  = 'test.csv'\n",
        "model_file       = 'model.pkl'\n",
        "test_preds_file = 'predicciones.csv'"
      ],
      "metadata": {
        "id": "Xmz00vOnr_Sm"
      },
      "execution_count": 15,
      "outputs": []
    },
    {
      "cell_type": "code",
      "source": [
        "import sys\n",
        "python = sys.executable"
      ],
      "metadata": {
        "id": "04Ga_IxCq6A9"
      },
      "execution_count": 16,
      "outputs": []
    },
    {
      "cell_type": "markdown",
      "source": [
        "# 1. Entrenar el modelo y guardarlo"
      ],
      "metadata": {
        "id": "oRak4Fu3rBIQ"
      }
    },
    {
      "cell_type": "code",
      "source": [
        "!$python train.py --model_file $model_file --data_file $train_data_file  --overwrite_model\n"
      ],
      "metadata": {
        "colab": {
          "base_uri": "https://localhost:8080/"
        },
        "id": "Mp8WHYWWrASV",
        "outputId": "ed1b8007-0d90-4263-c141-1511794330e5"
      },
      "execution_count": 17,
      "outputs": [
        {
          "output_type": "stream",
          "name": "stdout",
          "text": [
            "\u001b[32m2024-04-29 03:19:00.663\u001b[0m | \u001b[1mINFO    \u001b[0m | \u001b[36m__main__\u001b[0m:\u001b[36m<module>\u001b[0m:\u001b[36m22\u001b[0m - \u001b[1moverwriting existing model file model.pkl\u001b[0m\n",
            "\u001b[32m2024-04-29 03:19:00.663\u001b[0m | \u001b[1mINFO    \u001b[0m | \u001b[36m__main__\u001b[0m:\u001b[36m<module>\u001b[0m:\u001b[36m27\u001b[0m - \u001b[1mloading train data\u001b[0m\n",
            "\u001b[32m2024-04-29 03:19:01.410\u001b[0m | \u001b[1mINFO    \u001b[0m | \u001b[36m__main__\u001b[0m:\u001b[36m<module>\u001b[0m:\u001b[36m32\u001b[0m - \u001b[1mfitting model\u001b[0m\n",
            "\u001b[32m2024-04-29 03:19:02.459\u001b[0m | \u001b[1mINFO    \u001b[0m | \u001b[36m__main__\u001b[0m:\u001b[36m<module>\u001b[0m:\u001b[36m36\u001b[0m - \u001b[1msaving model to model.pkl\u001b[0m\n"
          ]
        }
      ]
    },
    {
      "cell_type": "markdown",
      "source": [
        "# 2. Hacer predicciones\n",
        "\n",
        "\n"
      ],
      "metadata": {
        "id": "F7mc9fNKujUO"
      }
    },
    {
      "cell_type": "code",
      "source": [
        "!$python predict.py --model_file $model_file --input_file $test_input_file  --predictions_file $test_preds_file\n"
      ],
      "metadata": {
        "colab": {
          "base_uri": "https://localhost:8080/"
        },
        "id": "kGYHT6n2unbi",
        "outputId": "c7b2b1d8-f1ba-4cb5-e402-bd5208880827"
      },
      "execution_count": 23,
      "outputs": [
        {
          "output_type": "stream",
          "name": "stdout",
          "text": [
            "\u001b[32m2024-04-29 03:21:25.075\u001b[0m | \u001b[1mINFO    \u001b[0m | \u001b[36m__main__\u001b[0m:\u001b[36m<module>\u001b[0m:\u001b[36m29\u001b[0m - \u001b[1mloading input data\u001b[0m\n",
            "\u001b[32m2024-04-29 03:21:25.274\u001b[0m | \u001b[1mINFO    \u001b[0m | \u001b[36m__main__\u001b[0m:\u001b[36m<module>\u001b[0m:\u001b[36m33\u001b[0m - \u001b[1mloading model\u001b[0m\n",
            "\u001b[32m2024-04-29 03:21:25.278\u001b[0m | \u001b[1mINFO    \u001b[0m | \u001b[36m__main__\u001b[0m:\u001b[36m<module>\u001b[0m:\u001b[36m37\u001b[0m - \u001b[1mmaking predictions\u001b[0m\n",
            "\u001b[32m2024-04-29 03:21:25.359\u001b[0m | \u001b[1mINFO    \u001b[0m | \u001b[36m__main__\u001b[0m:\u001b[36m<module>\u001b[0m:\u001b[36m40\u001b[0m - \u001b[1msaving predictions to predicciones.csv\u001b[0m\n"
          ]
        }
      ]
    },
    {
      "cell_type": "markdown",
      "source": [
        "# 3. Comparar predicciones previas"
      ],
      "metadata": {
        "id": "mpQiitrH2ETD"
      }
    },
    {
      "cell_type": "code",
      "source": [
        "import pandas as pd\n",
        "import numpy as np\n",
        "\n",
        "preds   = pd.read_csv(test_preds_file).values\n",
        "targets = pd.read_csv(test_input_file).values[-1]\n",
        "\n",
        "acc = np.mean(preds==targets)\n",
        "print (f\"accuracy on test {acc:.3f}\")"
      ],
      "metadata": {
        "id": "z_T9w2lb3ium",
        "outputId": "e135ee99-01f6-450d-be2d-9d4b3bee0822",
        "colab": {
          "base_uri": "https://localhost:8080/"
        }
      },
      "execution_count": 25,
      "outputs": [
        {
          "output_type": "stream",
          "name": "stdout",
          "text": [
            "accuracy on test 0.638\n"
          ]
        }
      ]
    }
  ]
}