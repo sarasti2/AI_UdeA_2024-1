{
  "nbformat": 4,
  "nbformat_minor": 0,
  "metadata": {
    "colab": {
      "provenance": [],
      "toc_visible": true,
      "authorship_tag": "ABX9TyOc040GwEG7sZZeq/7u6yXO",
      "include_colab_link": true
    },
    "kernelspec": {
      "name": "python3",
      "display_name": "Python 3"
    },
    "language_info": {
      "name": "python"
    }
  },
  "cells": [
    {
      "cell_type": "markdown",
      "metadata": {
        "id": "view-in-github",
        "colab_type": "text"
      },
      "source": [
        "<a href=\"https://colab.research.google.com/github/sarasti2/AI_UdeA_2024-1/blob/main/Untitled1.ipynb\" target=\"_parent\"><img src=\"https://colab.research.google.com/assets/colab-badge.svg\" alt=\"Open In Colab\"/></a>"
      ]
    },
    {
      "cell_type": "markdown",
      "source": [
        "# 0. Configuración inicial\n",
        "\n",
        "Recordemos que en el script [generate-data-and-model.ipynb](https://github.com/sarasti2/AI_UdeA_2024-1/blob/6049b128f3c7d378973fa23b9146d0a20374a283/fase-2/01%20-%20generate-data-and-model.ipynb) se crearon dos .csv (train and test), y el modelo (model.pkl), que se cargaran en este cuaderno directamente desde el github del proyecto, se encuentran alojados en [modelo](https://github.com/sarasti2/AI_UdeA_2024-1/tree/main/fase-2/modelo).\n",
        "\n",
        "Tambien debemos llamar a los dos scripts, train and predict que se encuentran alojados en [scripts](https://github.com/sarasti2/AI_UdeA_2024-1/tree/main/fase-2/scripts).\n",
        "\n",
        "\n",
        "\n",
        "\n"
      ],
      "metadata": {
        "id": "H7EdSqiToy63"
      }
    },
    {
      "cell_type": "code",
      "source": [
        "!pip install loguru"
      ],
      "metadata": {
        "colab": {
          "base_uri": "https://localhost:8080/"
        },
        "id": "iVeariAdsvcA",
        "outputId": "83fb0eec-75f4-4da4-db53-47718778fb39"
      },
      "execution_count": 40,
      "outputs": [
        {
          "output_type": "stream",
          "name": "stdout",
          "text": [
            "Requirement already satisfied: loguru in /usr/local/lib/python3.10/dist-packages (0.7.2)\n"
          ]
        }
      ]
    },
    {
      "cell_type": "code",
      "execution_count": 58,
      "metadata": {
        "colab": {
          "base_uri": "https://localhost:8080/"
        },
        "id": "kD9p-909ompG",
        "outputId": "3694edf1-f815-4b3e-f70a-7d25edbff5ca"
      },
      "outputs": [
        {
          "output_type": "stream",
          "name": "stdout",
          "text": [
            "--2024-04-29 03:05:04--  https://raw.githubusercontent.com/sarasti2/AI_UdeA_2024-1/main/fase-2/modelo/model.pkl\n",
            "Resolving raw.githubusercontent.com (raw.githubusercontent.com)... 185.199.109.133, 185.199.108.133, 185.199.111.133, ...\n",
            "Connecting to raw.githubusercontent.com (raw.githubusercontent.com)|185.199.109.133|:443... connected.\n",
            "HTTP request sent, awaiting response... 200 OK\n",
            "Length: 17069 (17K) [application/octet-stream]\n",
            "Saving to: ‘model.pkl’\n",
            "\n",
            "\rmodel.pkl             0%[                    ]       0  --.-KB/s               \rmodel.pkl           100%[===================>]  16.67K  --.-KB/s    in 0.001s  \n",
            "\n",
            "2024-04-29 03:05:04 (23.2 MB/s) - ‘model.pkl’ saved [17069/17069]\n",
            "\n",
            "--2024-04-29 03:05:04--  https://raw.githubusercontent.com/sarasti2/AI_UdeA_2024-1/main/fase-2/modelo/train.csv\n",
            "Resolving raw.githubusercontent.com (raw.githubusercontent.com)... 185.199.108.133, 185.199.110.133, 185.199.111.133, ...\n",
            "Connecting to raw.githubusercontent.com (raw.githubusercontent.com)|185.199.108.133|:443... connected.\n",
            "HTTP request sent, awaiting response... 200 OK\n",
            "Length: 23656815 (23M) [text/plain]\n",
            "Saving to: ‘train.csv’\n",
            "\n",
            "train.csv           100%[===================>]  22.56M  --.-KB/s    in 0.1s    \n",
            "\n",
            "2024-04-29 03:05:04 (153 MB/s) - ‘train.csv’ saved [23656815/23656815]\n",
            "\n",
            "--2024-04-29 03:05:04--  https://raw.githubusercontent.com/sarasti2/AI_UdeA_2024-1/main/fase-2/modelo/test.csv\n",
            "Resolving raw.githubusercontent.com (raw.githubusercontent.com)... 185.199.109.133, 185.199.108.133, 185.199.111.133, ...\n",
            "Connecting to raw.githubusercontent.com (raw.githubusercontent.com)|185.199.109.133|:443... connected.\n",
            "HTTP request sent, awaiting response... 200 OK\n",
            "Length: 5861289 (5.6M) [text/plain]\n",
            "Saving to: ‘test.csv’\n",
            "\n",
            "test.csv            100%[===================>]   5.59M  --.-KB/s    in 0.08s   \n",
            "\n",
            "2024-04-29 03:05:05 (69.9 MB/s) - ‘test.csv’ saved [5861289/5861289]\n",
            "\n",
            "--2024-04-29 03:05:05--  https://raw.githubusercontent.com/sarasti2/AI_UdeA_2024-1/main/fase-2/modelo/predicciones.csv\n",
            "Resolving raw.githubusercontent.com (raw.githubusercontent.com)... 185.199.110.133, 185.199.109.133, 185.199.108.133, ...\n",
            "Connecting to raw.githubusercontent.com (raw.githubusercontent.com)|185.199.110.133|:443... connected.\n",
            "HTTP request sent, awaiting response... 200 OK\n",
            "Length: 1 [text/plain]\n",
            "Saving to: ‘predicciones.csv’\n",
            "\n",
            "predicciones.csv    100%[===================>]       1  --.-KB/s    in 0s      \n",
            "\n",
            "2024-04-29 03:05:05 (63.4 KB/s) - ‘predicciones.csv’ saved [1/1]\n",
            "\n",
            "--2024-04-29 03:05:05--  https://raw.githubusercontent.com/sarasti2/AI_UdeA_2024-1/main/fase-2/scripts/train.py\n",
            "Resolving raw.githubusercontent.com (raw.githubusercontent.com)... 185.199.108.133, 185.199.109.133, 185.199.110.133, ...\n",
            "Connecting to raw.githubusercontent.com (raw.githubusercontent.com)|185.199.108.133|:443... connected.\n",
            "HTTP request sent, awaiting response... 200 OK\n",
            "Length: 1213 (1.2K) [text/plain]\n",
            "Saving to: ‘train.py’\n",
            "\n",
            "train.py            100%[===================>]   1.18K  --.-KB/s    in 0s      \n",
            "\n",
            "2024-04-29 03:05:05 (125 MB/s) - ‘train.py’ saved [1213/1213]\n",
            "\n",
            "--2024-04-29 03:05:05--  https://raw.githubusercontent.com/sarasti2/AI_UdeA_2024-1/main/fase-2/scripts/predict.py\n",
            "Resolving raw.githubusercontent.com (raw.githubusercontent.com)... 185.199.110.133, 185.199.111.133, 185.199.108.133, ...\n",
            "Connecting to raw.githubusercontent.com (raw.githubusercontent.com)|185.199.110.133|:443... connected.\n",
            "HTTP request sent, awaiting response... 200 OK\n",
            "Length: 1292 (1.3K) [text/plain]\n",
            "Saving to: ‘predict.py’\n",
            "\n",
            "predict.py          100%[===================>]   1.26K  --.-KB/s    in 0s      \n",
            "\n",
            "2024-04-29 03:05:05 (134 MB/s) - ‘predict.py’ saved [1292/1292]\n",
            "\n"
          ]
        }
      ],
      "source": [
        "!wget -O model.pkl https://raw.githubusercontent.com/sarasti2/AI_UdeA_2024-1/main/fase-2/modelo/model.pkl\n",
        "!wget -O train.csv https://raw.githubusercontent.com/sarasti2/AI_UdeA_2024-1/main/fase-2/modelo/train.csv\n",
        "!wget -O test.csv https://raw.githubusercontent.com/sarasti2/AI_UdeA_2024-1/main/fase-2/modelo/test.csv\n",
        "!wget -O predicciones.csv https://raw.githubusercontent.com/sarasti2/AI_UdeA_2024-1/main/fase-2/modelo/predicciones.csv\n",
        "!wget -O train.py https://raw.githubusercontent.com/sarasti2/AI_UdeA_2024-1/main/fase-2/scripts/train.py\n",
        "!wget -O predict.py https://raw.githubusercontent.com/sarasti2/AI_UdeA_2024-1/main/fase-2/scripts/predict.py\n"
      ]
    },
    {
      "cell_type": "code",
      "source": [
        "train_data_file  = 'train.csv'\n",
        "test_input_file  = 'test.csv'\n",
        "model_file       = 'model.pkl'\n",
        "test_preds_file = 'predicciones.csv'"
      ],
      "metadata": {
        "id": "Xmz00vOnr_Sm"
      },
      "execution_count": 59,
      "outputs": []
    },
    {
      "cell_type": "code",
      "source": [
        "import sys\n",
        "python = sys.executable"
      ],
      "metadata": {
        "id": "04Ga_IxCq6A9"
      },
      "execution_count": 60,
      "outputs": []
    },
    {
      "cell_type": "markdown",
      "source": [
        "# 1. Entrenar el modelo y guardarlo"
      ],
      "metadata": {
        "id": "oRak4Fu3rBIQ"
      }
    },
    {
      "cell_type": "code",
      "source": [
        "!$python train.py --model_file $model_file --data_file $train_data_file  --overwrite_model\n"
      ],
      "metadata": {
        "colab": {
          "base_uri": "https://localhost:8080/"
        },
        "id": "Mp8WHYWWrASV",
        "outputId": "c359f6c8-27e6-4513-c21c-ce926b5b99ae"
      },
      "execution_count": 56,
      "outputs": [
        {
          "output_type": "stream",
          "name": "stdout",
          "text": [
            "\u001b[32m2024-04-29 03:01:52.817\u001b[0m | \u001b[1mINFO    \u001b[0m | \u001b[36m__main__\u001b[0m:\u001b[36m<module>\u001b[0m:\u001b[36m22\u001b[0m - \u001b[1moverwriting existing model file model.pkl\u001b[0m\n",
            "\u001b[32m2024-04-29 03:01:52.817\u001b[0m | \u001b[1mINFO    \u001b[0m | \u001b[36m__main__\u001b[0m:\u001b[36m<module>\u001b[0m:\u001b[36m27\u001b[0m - \u001b[1mloading train data\u001b[0m\n",
            "\u001b[32m2024-04-29 03:01:53.464\u001b[0m | \u001b[1mINFO    \u001b[0m | \u001b[36m__main__\u001b[0m:\u001b[36m<module>\u001b[0m:\u001b[36m32\u001b[0m - \u001b[1mfitting model\u001b[0m\n",
            "\u001b[32m2024-04-29 03:01:54.299\u001b[0m | \u001b[1mINFO    \u001b[0m | \u001b[36m__main__\u001b[0m:\u001b[36m<module>\u001b[0m:\u001b[36m36\u001b[0m - \u001b[1msaving model to model.pkl\u001b[0m\n"
          ]
        }
      ]
    },
    {
      "cell_type": "markdown",
      "source": [
        "# 2. Hacer predicciones\n",
        "\n",
        "\n"
      ],
      "metadata": {
        "id": "F7mc9fNKujUO"
      }
    },
    {
      "cell_type": "code",
      "source": [
        "!$python pre.py --model_file $model_file --input_file $test_data_file  --predictions_file $test_preds_file\n"
      ],
      "metadata": {
        "colab": {
          "base_uri": "https://localhost:8080/"
        },
        "id": "kGYHT6n2unbi",
        "outputId": "cf850dd6-4934-486f-f29c-c7d0788a5739"
      },
      "execution_count": 65,
      "outputs": [
        {
          "output_type": "stream",
          "name": "stdout",
          "text": [
            "/bin/bash: line 1: pre.py: command not found\n"
          ]
        }
      ]
    }
  ]
}